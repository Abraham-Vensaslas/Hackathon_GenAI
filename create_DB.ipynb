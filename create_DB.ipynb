{
 "cells": [
  {
   "cell_type": "code",
   "execution_count": 1,
   "id": "fd1c79e2",
   "metadata": {},
   "outputs": [],
   "source": [
    "import pandas as pd"
   ]
  },
  {
   "cell_type": "code",
   "execution_count": 2,
   "id": "9f3bc5b7",
   "metadata": {},
   "outputs": [],
   "source": [
    "df = pd.read_csv(\"/home/ubuntu/new_retail_data.csv\")"
   ]
  },
  {
   "cell_type": "code",
   "execution_count": 3,
   "id": "3f42cc2b",
   "metadata": {},
   "outputs": [
    {
     "data": {
      "text/plain": [
       "Index(['Transaction_ID', 'Customer_ID', 'Name', 'Email', 'Phone', 'Address',\n",
       "       'City', 'State', 'Zipcode', 'Country', 'Age', 'Gender', 'Income',\n",
       "       'Customer_Segment', 'Date', 'Year', 'Month', 'Time', 'Total_Purchases',\n",
       "       'Amount', 'Total_Amount', 'Product_Category', 'Product_Brand',\n",
       "       'Product_Type', 'Feedback', 'Shipping_Method', 'Payment_Method',\n",
       "       'Order_Status', 'Ratings', 'products'],\n",
       "      dtype='object')"
      ]
     },
     "execution_count": 3,
     "metadata": {},
     "output_type": "execute_result"
    }
   ],
   "source": [
    "df.columns"
   ]
  },
  {
   "cell_type": "code",
   "execution_count": 5,
   "id": "59e3d257",
   "metadata": {},
   "outputs": [
    {
     "data": {
      "text/plain": [
       "(293911, 30)"
      ]
     },
     "execution_count": 5,
     "metadata": {},
     "output_type": "execute_result"
    }
   ],
   "source": [
    "df.shape"
   ]
  },
  {
   "cell_type": "code",
   "execution_count": 4,
   "id": "ffd67578",
   "metadata": {},
   "outputs": [],
   "source": [
    "df = df.dropna()"
   ]
  },
  {
   "cell_type": "code",
   "execution_count": 6,
   "id": "d6af527e",
   "metadata": {},
   "outputs": [
    {
     "name": "stdout",
     "output_type": "stream",
     "text": [
      "        Transaction_ID  Customer_ID                 Name  \\\n",
      "0            8691788.0      37249.0  Michelle Harrington   \n",
      "1            2174773.0      69749.0          Kelsey Hill   \n",
      "2            6679610.0      30192.0         Scott Jensen   \n",
      "3            7232460.0      62101.0        Joseph Miller   \n",
      "4            4983775.0      27901.0        Debra Coleman   \n",
      "...                ...          ...                  ...   \n",
      "302005       4246475.0      12104.0         Meagan Ellis   \n",
      "302006       1197603.0      69772.0          Mathew Beck   \n",
      "302007       7743242.0      28449.0           Daniel Lee   \n",
      "302008       9301950.0      45477.0       Patrick Wilson   \n",
      "302009       2882826.0      53626.0       Dustin Merritt   \n",
      "\n",
      "                           Email         Phone                       Address  \\\n",
      "0              Ebony39@gmail.com  1.414787e+09             3959 Amanda Burgs   \n",
      "1               Mark36@gmail.com  6.852900e+09            82072 Dawn Centers   \n",
      "2              Shane85@gmail.com  8.362160e+09             4133 Young Canyon   \n",
      "3               Mary34@gmail.com  2.776752e+09   8148 Thomas Creek Suite 100   \n",
      "4            Charles30@gmail.com  9.098268e+09     5813 Lori Ports Suite 269   \n",
      "...                          ...           ...                           ...   \n",
      "302005      Courtney60@gmail.com  7.466354e+09        389 Todd Path Apt. 159   \n",
      "302006      Jennifer71@gmail.com  5.754305e+09             52809 Mark Forges   \n",
      "302007  Christopher100@gmail.com  9.382530e+09  407 Aaron Crossing Suite 495   \n",
      "302008       Rebecca65@gmail.com  9.373222e+09               3204 Baird Port   \n",
      "302009       William14@gmail.com  9.518927e+09           143 Amanda Crescent   \n",
      "\n",
      "              City            State  Zipcode    Country  ...  \\\n",
      "0         Dortmund           Berlin  77985.0    Germany  ...   \n",
      "1       Nottingham          England  99071.0         UK  ...   \n",
      "2          Geelong  New South Wales  75929.0  Australia  ...   \n",
      "3         Edmonton          Ontario  88420.0     Canada  ...   \n",
      "4          Bristol          England  48704.0         UK  ...   \n",
      "...            ...              ...      ...        ...  ...   \n",
      "302005  Townsville  New South Wales   4567.0  Australia  ...   \n",
      "302006     Hanover           Berlin  16852.0    Germany  ...   \n",
      "302007    Brighton          England  88038.0         UK  ...   \n",
      "302008     Halifax          Ontario  67608.0     Canada  ...   \n",
      "302009      Tucson    West Virginia  25242.0        USA  ...   \n",
      "\n",
      "        Product_Category  Product_Brand Product_Type   Feedback  \\\n",
      "0               Clothing           Nike       Shorts  Excellent   \n",
      "1            Electronics        Samsung       Tablet  Excellent   \n",
      "2                  Books  Penguin Books   Children's    Average   \n",
      "3             Home Decor     Home Depot        Tools  Excellent   \n",
      "4                Grocery         Nestle    Chocolate        Bad   \n",
      "...                  ...            ...          ...        ...   \n",
      "302005             Books  Penguin Books      Fiction        Bad   \n",
      "302006       Electronics          Apple       Laptop  Excellent   \n",
      "302007          Clothing         Adidas       Jacket    Average   \n",
      "302008        Home Decor           IKEA    Furniture       Good   \n",
      "302009        Home Decor     Home Depot  Decorations    Average   \n",
      "\n",
      "       Shipping_Method  Payment_Method Order_Status Ratings  \\\n",
      "0             Same-Day      Debit Card      Shipped     5.0   \n",
      "1             Standard     Credit Card   Processing     4.0   \n",
      "2             Same-Day     Credit Card   Processing     2.0   \n",
      "3             Standard          PayPal   Processing     4.0   \n",
      "4             Standard            Cash      Shipped     1.0   \n",
      "...                ...             ...          ...     ...   \n",
      "302005        Same-Day            Cash   Processing     1.0   \n",
      "302006        Same-Day            Cash   Processing     5.0   \n",
      "302007         Express            Cash      Shipped     2.0   \n",
      "302008        Standard            Cash      Shipped     4.0   \n",
      "302009        Same-Day            Cash      Shipped     2.0   \n",
      "\n",
      "                  products        Id  \n",
      "0           Cycling shorts  989b7e18  \n",
      "1               Lenovo Tab  b7eb9289  \n",
      "2         Sports equipment  c3d9c24c  \n",
      "3            Utility knife  05290110  \n",
      "4        Chocolate cookies  23b6a28e  \n",
      "...                    ...       ...  \n",
      "302005  Historical fiction  48d86b31  \n",
      "302006             LG Gram  d384bb92  \n",
      "302007               Parka  07c59194  \n",
      "302008            TV stand  0c0538a2  \n",
      "302009              Clocks  9a1dbe9f  \n",
      "\n",
      "[293911 rows x 31 columns]\n"
     ]
    }
   ],
   "source": [
    "import pandas as pd\n",
    "import random\n",
    "import string\n",
    "import hashlib\n",
    "# Function to generate a unique ID based on a hash of specific columns\n",
    "def generate_unique_id(row):\n",
    "    # Combine the values of the selected columns into a single string\n",
    "    unique_string = f\"{row['Name']}_{row['Age']}_{row['Gender']}_{row['Address']}\"\n",
    "    # Generate a hash from the string\n",
    "    unique_id = hashlib.md5(unique_string.encode()).hexdigest()[:8]  # Use the first 8 characters of the hash\n",
    "    return unique_id\n",
    "\n",
    "# Apply the function to create a new 'unique_id' column\n",
    "df['Id'] = df.apply(generate_unique_id, axis=1)\n",
    "\n",
    "# Display the DataFrame with the unique ID column\n",
    "print(df)"
   ]
  },
  {
   "cell_type": "code",
   "execution_count": 7,
   "id": "00cd1600",
   "metadata": {},
   "outputs": [
    {
     "data": {
      "text/plain": [
       "Index(['Name', 'Nationality', 'National_Position', 'National_Kit', 'Club',\n",
       "       'Club_Position', 'Club_Kit', 'Club_Joining', 'Contract_Expiry',\n",
       "       'Rating', 'Height', 'Weight', 'Preffered_Foot', 'Birth_Date', 'Age',\n",
       "       'Preffered_Position', 'Work_Rate', 'Weak_foot', 'Skill_Moves',\n",
       "       'Ball_Control', 'Dribbling', 'Marking', 'Sliding_Tackle',\n",
       "       'Standing_Tackle', 'Aggression', 'Reactions', 'Attacking_Position',\n",
       "       'Interceptions', 'Vision', 'Composure', 'Crossing', 'Short_Pass',\n",
       "       'Long_Pass', 'Acceleration', 'Speed', 'Stamina', 'Strength', 'Balance',\n",
       "       'Agility', 'Jumping', 'Heading', 'Shot_Power', 'Finishing',\n",
       "       'Long_Shots', 'Curve', 'Freekick_Accuracy', 'Penalties', 'Volleys',\n",
       "       'GK_Positioning', 'GK_Diving', 'GK_Kicking', 'GK_Handling',\n",
       "       'GK_Reflexes', 'player_id'],\n",
       "      dtype='object')"
      ]
     },
     "execution_count": 7,
     "metadata": {},
     "output_type": "execute_result"
    }
   ],
   "source": [
    "df.columns"
   ]
  },
  {
   "cell_type": "code",
   "execution_count": 7,
   "id": "8df47c58",
   "metadata": {},
   "outputs": [],
   "source": [
    "Personal_details = df[['Id', 'Name',  'Age', 'Gender','Income']]\n",
    "Contact_details = df[['Id','Email', 'Phone', 'Address',\n",
    "       'City', 'State', 'Zipcode', 'Country']]\n",
    "Transaction_details = df[['Transaction_ID','Id','Customer_Segment', 'Date', 'Year', 'Month', 'Time', 'Total_Purchases',\n",
    "       'Amount', 'Total_Amount', 'Product_Category', 'Product_Brand',\n",
    "       'Product_Type', 'Feedback', 'Shipping_Method', 'Payment_Method',\n",
    "       'Order_Status', 'Ratings', 'products']]"
   ]
  },
  {
   "cell_type": "code",
   "execution_count": 8,
   "id": "0f852d65",
   "metadata": {},
   "outputs": [],
   "source": [
    "Personal_details = Personal_details.drop_duplicates()\n",
    "Contact_details = Contact_details.drop_duplicates()\n",
    "Transaction_details = Transaction_details.drop_duplicates()"
   ]
  },
  {
   "cell_type": "code",
   "execution_count": 11,
   "id": "0ff351b6",
   "metadata": {},
   "outputs": [],
   "source": [
    "import sqlite3\n",
    "import pandas as pd\n",
    "\n",
    "# Function to create the SQLite table from a DataFrame\n",
    "def create_table_from_dataframe(conn, df, table_name):\n",
    "    # Generate the CREATE TABLE query based on the DataFrame columns\n",
    "    columns = df.columns\n",
    "    create_query = f\"CREATE TABLE IF NOT EXISTS {table_name} ({', '.join([f'{col} TEXT' for col in columns])})\"\n",
    "    \n",
    "    # Execute the query to create the table\n",
    "    conn.execute(create_query)\n",
    "    conn.commit()\n",
    "\n",
    "# Function to insert DataFrame data into the SQLite table\n",
    "def insert_dataframe_to_table(conn, df, table_name):\n",
    "    # Prepare the INSERT INTO query\n",
    "    columns = df.columns\n",
    "    insert_query = f\"INSERT INTO {table_name} ({', '.join(columns)}) VALUES ({', '.join(['?' for _ in columns])})\"\n",
    "    \n",
    "    # Insert rows from the DataFrame into the table\n",
    "    for row in df.itertuples(index=False, name=None):\n",
    "        conn.execute(insert_query, row)\n",
    "    \n",
    "    conn.commit()\n",
    "\n",
    "# Example usage\n",
    "def main():\n",
    "    # Connect to SQLite database (or create it if it doesn't exist)\n",
    "    conn = sqlite3.connect('Retail_details.db')\n",
    "    \n",
    "    # Define the table name\n",
    "    table_name = \"Transaction_details\"\n",
    "    df = Transaction_details\n",
    "    \n",
    "    # Create the table based on the DataFrame columns\n",
    "    create_table_from_dataframe(conn, df, table_name)\n",
    "    \n",
    "    # Insert the DataFrame data into the table\n",
    "    insert_dataframe_to_table(conn, df, table_name)\n",
    "    \n",
    "    # Close the connection\n",
    "    conn.close()\n",
    "\n",
    "if __name__ == \"__main__\":\n",
    "    main()\n"
   ]
  },
  {
   "cell_type": "code",
   "execution_count": 12,
   "id": "acfb868c",
   "metadata": {},
   "outputs": [
    {
     "name": "stdout",
     "output_type": "stream",
     "text": [
      "('ixFDWbCI', 'Cristiano Ronaldo', 'Portugal', 'LS', '7.0', '185 cm', '80 kg', 'Right', '02/05/1985', '32', 'LW/ST')\n",
      "('rCRub4EB', 'Lionel Messi', 'Argentina', 'RW', '10.0', '170 cm', '72 kg', 'Left', '06/24/1987', '29', 'RW')\n",
      "('puWsCZX1', 'Neymar', 'Brazil', 'LW', '10.0', '174 cm', '68 kg', 'Right', '02/05/1992', '25', 'LW')\n",
      "('SZmbEvV2', 'Luis Suárez', 'Uruguay', 'LS', '9.0', '182 cm', '85 kg', 'Right', '01/24/1987', '30', 'ST')\n",
      "('dx9ejyF1', 'Manuel Neuer', 'Germany', 'GK', '1.0', '193 cm', '92 kg', 'Right', '03/27/1986', '31', 'GK')\n"
     ]
    }
   ],
   "source": [
    "conn = sqlite3.connect('football_player_details.db')\n",
    "cursor=conn.cursor()\n",
    "data=cursor.execute('''Select * from personal_details limit 5''')\n",
    "for row in data:\n",
    "    print(row)"
   ]
  },
  {
   "cell_type": "code",
   "execution_count": 16,
   "id": "0873d6d0",
   "metadata": {},
   "outputs": [
    {
     "ename": "ModuleNotFoundError",
     "evalue": "No module named 'phi.utils.log'; 'phi.utils' is not a package",
     "output_type": "error",
     "traceback": [
      "\u001b[0;31m---------------------------------------------------------------------------\u001b[0m",
      "\u001b[0;31mModuleNotFoundError\u001b[0m                       Traceback (most recent call last)",
      "Cell \u001b[0;32mIn[16], line 1\u001b[0m\n\u001b[0;32m----> 1\u001b[0m \u001b[38;5;28;01mfrom\u001b[39;00m \u001b[38;5;21;01mphi\u001b[39;00m\u001b[38;5;21;01m.\u001b[39;00m\u001b[38;5;21;01magent\u001b[39;00m \u001b[38;5;28;01mimport\u001b[39;00m Agent\n\u001b[1;32m      2\u001b[0m \u001b[38;5;28;01mfrom\u001b[39;00m \u001b[38;5;21;01mphi\u001b[39;00m\u001b[38;5;21;01m.\u001b[39;00m\u001b[38;5;21;01mmodel\u001b[39;00m\u001b[38;5;21;01m.\u001b[39;00m\u001b[38;5;21;01mopenai\u001b[39;00m \u001b[38;5;28;01mimport\u001b[39;00m OpenAIChat\n\u001b[1;32m      3\u001b[0m \u001b[38;5;28;01mfrom\u001b[39;00m \u001b[38;5;21;01mphi\u001b[39;00m\u001b[38;5;21;01m.\u001b[39;00m\u001b[38;5;21;01mtools\u001b[39;00m\u001b[38;5;21;01m.\u001b[39;00m\u001b[38;5;21;01mduckduckgo\u001b[39;00m \u001b[38;5;28;01mimport\u001b[39;00m DuckDuckGo\n",
      "File \u001b[0;32m~/anaconda3/lib/python3.10/site-packages/phi/agent/__init__.py:1\u001b[0m\n\u001b[0;32m----> 1\u001b[0m \u001b[38;5;28;01mfrom\u001b[39;00m \u001b[38;5;21;01mphi\u001b[39;00m\u001b[38;5;21;01m.\u001b[39;00m\u001b[38;5;21;01magent\u001b[39;00m\u001b[38;5;21;01m.\u001b[39;00m\u001b[38;5;21;01magent\u001b[39;00m \u001b[38;5;28;01mimport\u001b[39;00m (\n\u001b[1;32m      2\u001b[0m     Agent,\n\u001b[1;32m      3\u001b[0m     AgentKnowledge,\n\u001b[1;32m      4\u001b[0m     AgentMemory,\n\u001b[1;32m      5\u001b[0m     AgentSession,\n\u001b[1;32m      6\u001b[0m     AgentStorage,\n\u001b[1;32m      7\u001b[0m     Function,\n\u001b[1;32m      8\u001b[0m     MemoryRetrieval,\n\u001b[1;32m      9\u001b[0m     Message,\n\u001b[1;32m     10\u001b[0m     RunEvent,\n\u001b[1;32m     11\u001b[0m     RunResponse,\n\u001b[1;32m     12\u001b[0m     Tool,\n\u001b[1;32m     13\u001b[0m     Toolkit,\n\u001b[1;32m     14\u001b[0m )\n",
      "File \u001b[0;32m~/anaconda3/lib/python3.10/site-packages/phi/agent/agent.py:33\u001b[0m\n\u001b[1;32m     31\u001b[0m \u001b[38;5;28;01mfrom\u001b[39;00m \u001b[38;5;21;01mphi\u001b[39;00m\u001b[38;5;21;01m.\u001b[39;00m\u001b[38;5;21;01mmodel\u001b[39;00m\u001b[38;5;21;01m.\u001b[39;00m\u001b[38;5;21;01mcontent\u001b[39;00m \u001b[38;5;28;01mimport\u001b[39;00m Image, Video, Audio\n\u001b[1;32m     32\u001b[0m \u001b[38;5;28;01mfrom\u001b[39;00m \u001b[38;5;21;01mphi\u001b[39;00m\u001b[38;5;21;01m.\u001b[39;00m\u001b[38;5;21;01mreasoning\u001b[39;00m\u001b[38;5;21;01m.\u001b[39;00m\u001b[38;5;21;01mstep\u001b[39;00m \u001b[38;5;28;01mimport\u001b[39;00m ReasoningStep, ReasoningSteps, NextAction\n\u001b[0;32m---> 33\u001b[0m \u001b[38;5;28;01mfrom\u001b[39;00m \u001b[38;5;21;01mphi\u001b[39;00m\u001b[38;5;21;01m.\u001b[39;00m\u001b[38;5;21;01mrun\u001b[39;00m\u001b[38;5;21;01m.\u001b[39;00m\u001b[38;5;21;01mresponse\u001b[39;00m \u001b[38;5;28;01mimport\u001b[39;00m RunEvent, RunResponse, RunResponseExtraData\n\u001b[1;32m     34\u001b[0m \u001b[38;5;28;01mfrom\u001b[39;00m \u001b[38;5;21;01mphi\u001b[39;00m\u001b[38;5;21;01m.\u001b[39;00m\u001b[38;5;21;01mknowledge\u001b[39;00m\u001b[38;5;21;01m.\u001b[39;00m\u001b[38;5;21;01magent\u001b[39;00m \u001b[38;5;28;01mimport\u001b[39;00m AgentKnowledge\n\u001b[1;32m     35\u001b[0m \u001b[38;5;28;01mfrom\u001b[39;00m \u001b[38;5;21;01mphi\u001b[39;00m\u001b[38;5;21;01m.\u001b[39;00m\u001b[38;5;21;01mmodel\u001b[39;00m\u001b[38;5;21;01m.\u001b[39;00m\u001b[38;5;21;01mbase\u001b[39;00m \u001b[38;5;28;01mimport\u001b[39;00m Model\n",
      "File \u001b[0;32m~/anaconda3/lib/python3.10/site-packages/phi/run/response.py:10\u001b[0m\n\u001b[1;32m      8\u001b[0m \u001b[38;5;28;01mfrom\u001b[39;00m \u001b[38;5;21;01mphi\u001b[39;00m\u001b[38;5;21;01m.\u001b[39;00m\u001b[38;5;21;01mmodel\u001b[39;00m\u001b[38;5;21;01m.\u001b[39;00m\u001b[38;5;21;01mcontent\u001b[39;00m \u001b[38;5;28;01mimport\u001b[39;00m Video, Image, Audio\n\u001b[1;32m      9\u001b[0m \u001b[38;5;28;01mfrom\u001b[39;00m \u001b[38;5;21;01mphi\u001b[39;00m\u001b[38;5;21;01m.\u001b[39;00m\u001b[38;5;21;01mreasoning\u001b[39;00m\u001b[38;5;21;01m.\u001b[39;00m\u001b[38;5;21;01mstep\u001b[39;00m \u001b[38;5;28;01mimport\u001b[39;00m ReasoningStep\n\u001b[0;32m---> 10\u001b[0m \u001b[38;5;28;01mfrom\u001b[39;00m \u001b[38;5;21;01mphi\u001b[39;00m\u001b[38;5;21;01m.\u001b[39;00m\u001b[38;5;21;01mmodel\u001b[39;00m\u001b[38;5;21;01m.\u001b[39;00m\u001b[38;5;21;01mmessage\u001b[39;00m \u001b[38;5;28;01mimport\u001b[39;00m Message, MessageReferences\n\u001b[1;32m     13\u001b[0m \u001b[38;5;28;01mclass\u001b[39;00m \u001b[38;5;21;01mRunEvent\u001b[39;00m(\u001b[38;5;28mstr\u001b[39m, Enum):\n\u001b[1;32m     14\u001b[0m \u001b[38;5;250m    \u001b[39m\u001b[38;5;124;03m\"\"\"Events that can be sent by the run() functions\"\"\"\u001b[39;00m\n",
      "File \u001b[0;32m~/anaconda3/lib/python3.10/site-packages/phi/model/message.py:6\u001b[0m\n\u001b[1;32m      3\u001b[0m \u001b[38;5;28;01mfrom\u001b[39;00m \u001b[38;5;21;01mtyping\u001b[39;00m \u001b[38;5;28;01mimport\u001b[39;00m Optional, Any, Dict, List, Union, Sequence\n\u001b[1;32m      4\u001b[0m \u001b[38;5;28;01mfrom\u001b[39;00m \u001b[38;5;21;01mpydantic\u001b[39;00m \u001b[38;5;28;01mimport\u001b[39;00m BaseModel, ConfigDict, Field\n\u001b[0;32m----> 6\u001b[0m \u001b[38;5;28;01mfrom\u001b[39;00m \u001b[38;5;21;01mphi\u001b[39;00m\u001b[38;5;21;01m.\u001b[39;00m\u001b[38;5;21;01mutils\u001b[39;00m\u001b[38;5;21;01m.\u001b[39;00m\u001b[38;5;21;01mlog\u001b[39;00m \u001b[38;5;28;01mimport\u001b[39;00m logger\n\u001b[1;32m      9\u001b[0m \u001b[38;5;28;01mclass\u001b[39;00m \u001b[38;5;21;01mMessageReferences\u001b[39;00m(BaseModel):\n\u001b[1;32m     10\u001b[0m \u001b[38;5;250m    \u001b[39m\u001b[38;5;124;03m\"\"\"The references added to user message for RAG\"\"\"\u001b[39;00m\n",
      "\u001b[0;31mModuleNotFoundError\u001b[0m: No module named 'phi.utils.log'; 'phi.utils' is not a package"
     ]
    }
   ],
   "source": [
    "from phi.agent import Agent\n",
    "from phi.model.openai import OpenAIChat\n",
    "from phi.tools.duckduckgo import DuckDuckGo\n",
    "\n",
    "web_agent = Agent(\n",
    "    name=\"Web Agent\",\n",
    "    model=OpenAIChat(id=\"gpt-4o\"),\n",
    "    tools=[DuckDuckGo()],\n",
    "    instructions=[\"Always include sources\"],\n",
    "    show_tool_calls=True,\n",
    "    markdown=True,\n",
    ")\n",
    "web_agent.print_response(\"Whats happening in France?\", stream=True)\n"
   ]
  },
  {
   "cell_type": "code",
   "execution_count": 15,
   "id": "da4ac585",
   "metadata": {},
   "outputs": [
    {
     "name": "stdout",
     "output_type": "stream",
     "text": [
      "Looking in indexes: https://sonatype.adfdata.net/repository/pypi_adf/simple, https://pypi.org/simple, https://pip.repos.neuron.amazonaws.com\n",
      "Collecting phidata\n",
      "  Downloading phidata-2.7.6-py3-none-any.whl (676 kB)\n",
      "\u001b[2K     \u001b[38;2;114;156;31m━━━━━━━━━━━━━━━━━━━━━━━━━━━━━━━━━━━━━━\u001b[0m \u001b[32m676.9/676.9 kB\u001b[0m \u001b[31m12.5 MB/s\u001b[0m eta \u001b[36m0:00:00\u001b[0m[31m9.0 MB/s\u001b[0m eta \u001b[36m0:00:01\u001b[0m\n",
      "\u001b[?25hRequirement already satisfied: pydantic in /home/ubuntu/anaconda3/lib/python3.10/site-packages (from phidata) (2.10.4)\n",
      "Requirement already satisfied: pyyaml in /home/ubuntu/anaconda3/lib/python3.10/site-packages (from phidata) (6.0)\n",
      "Requirement already satisfied: gitpython in /home/ubuntu/anaconda3/lib/python3.10/site-packages (from phidata) (3.1.43)\n",
      "Requirement already satisfied: httpx in /home/ubuntu/anaconda3/lib/python3.10/site-packages (from phidata) (0.28.1)\n",
      "Collecting pydantic-settings\n",
      "  Downloading pydantic_settings-2.7.1-py3-none-any.whl (29 kB)\n",
      "Requirement already satisfied: python-dotenv in /home/ubuntu/anaconda3/lib/python3.10/site-packages (from phidata) (1.0.1)\n",
      "Collecting typer\n",
      "  Downloading typer-0.15.1-py3-none-any.whl (44 kB)\n",
      "\u001b[2K     \u001b[38;2;114;156;31m━━━━━━━━━━━━━━━━━━━━━━━━━━━━━━━━━━━━━━━━\u001b[0m \u001b[32m44.9/44.9 kB\u001b[0m \u001b[31m14.3 MB/s\u001b[0m eta \u001b[36m0:00:00\u001b[0m\n",
      "\u001b[?25hRequirement already satisfied: rich in /home/ubuntu/anaconda3/lib/python3.10/site-packages (from phidata) (13.9.4)\n",
      "Requirement already satisfied: tomli in /home/ubuntu/anaconda3/lib/python3.10/site-packages (from phidata) (2.0.1)\n",
      "Requirement already satisfied: typing-extensions in /home/ubuntu/anaconda3/lib/python3.10/site-packages (from phidata) (4.12.2)\n",
      "Requirement already satisfied: gitdb<5,>=4.0.1 in /home/ubuntu/anaconda3/lib/python3.10/site-packages (from gitpython->phidata) (4.0.11)\n",
      "Requirement already satisfied: idna in /home/ubuntu/anaconda3/lib/python3.10/site-packages (from httpx->phidata) (3.4)\n",
      "Requirement already satisfied: certifi in /home/ubuntu/anaconda3/lib/python3.10/site-packages (from httpx->phidata) (2022.12.7)\n",
      "Requirement already satisfied: httpcore==1.* in /home/ubuntu/anaconda3/lib/python3.10/site-packages (from httpx->phidata) (1.0.7)\n",
      "Requirement already satisfied: anyio in /home/ubuntu/anaconda3/lib/python3.10/site-packages (from httpx->phidata) (3.5.0)\n",
      "Requirement already satisfied: h11<0.15,>=0.13 in /home/ubuntu/anaconda3/lib/python3.10/site-packages (from httpcore==1.*->httpx->phidata) (0.14.0)\n",
      "Requirement already satisfied: pydantic-core==2.27.2 in /home/ubuntu/anaconda3/lib/python3.10/site-packages (from pydantic->phidata) (2.27.2)\n",
      "Requirement already satisfied: annotated-types>=0.6.0 in /home/ubuntu/anaconda3/lib/python3.10/site-packages (from pydantic->phidata) (0.7.0)\n",
      "Requirement already satisfied: pygments<3.0.0,>=2.13.0 in /home/ubuntu/anaconda3/lib/python3.10/site-packages (from rich->phidata) (2.18.0)\n",
      "Requirement already satisfied: markdown-it-py>=2.2.0 in /home/ubuntu/anaconda3/lib/python3.10/site-packages (from rich->phidata) (3.0.0)\n",
      "Collecting shellingham>=1.3.0\n",
      "  Downloading shellingham-1.5.4-py2.py3-none-any.whl (9.8 kB)\n",
      "Requirement already satisfied: click>=8.0.0 in /home/ubuntu/anaconda3/lib/python3.10/site-packages (from typer->phidata) (8.0.4)\n",
      "Requirement already satisfied: smmap<6,>=3.0.1 in /home/ubuntu/anaconda3/lib/python3.10/site-packages (from gitdb<5,>=4.0.1->gitpython->phidata) (5.0.1)\n",
      "Requirement already satisfied: mdurl~=0.1 in /home/ubuntu/anaconda3/lib/python3.10/site-packages (from markdown-it-py>=2.2.0->rich->phidata) (0.1.2)\n",
      "Requirement already satisfied: sniffio>=1.1 in /home/ubuntu/anaconda3/lib/python3.10/site-packages (from anyio->httpx->phidata) (1.2.0)\n",
      "Installing collected packages: shellingham, typer, pydantic-settings, phidata\n",
      "Successfully installed phidata-2.7.6 pydantic-settings-2.7.1 shellingham-1.5.4 typer-0.15.1\n"
     ]
    }
   ],
   "source": [
    "!pip install phidata"
   ]
  },
  {
   "cell_type": "code",
   "execution_count": 19,
   "id": "be15cba6",
   "metadata": {},
   "outputs": [
    {
     "name": "stdout",
     "output_type": "stream",
     "text": [
      "Looking in indexes: https://sonatype.adfdata.net/repository/pypi_adf/simple, https://pypi.org/simple, https://pip.repos.neuron.amazonaws.com\n",
      "Collecting googlesearch-python\n",
      "  Downloading googlesearch_python-1.2.5-py3-none-any.whl (4.8 kB)\n",
      "Requirement already satisfied: beautifulsoup4>=4.9 in /home/ubuntu/anaconda3/lib/python3.10/site-packages (from googlesearch-python) (4.11.1)\n",
      "Requirement already satisfied: requests>=2.20 in /home/ubuntu/anaconda3/lib/python3.10/site-packages (from googlesearch-python) (2.28.1)\n",
      "Requirement already satisfied: soupsieve>1.2 in /home/ubuntu/anaconda3/lib/python3.10/site-packages (from beautifulsoup4>=4.9->googlesearch-python) (2.3.2.post1)\n",
      "Requirement already satisfied: urllib3<1.27,>=1.21.1 in /home/ubuntu/anaconda3/lib/python3.10/site-packages (from requests>=2.20->googlesearch-python) (1.26.9)\n",
      "Requirement already satisfied: idna<4,>=2.5 in /home/ubuntu/anaconda3/lib/python3.10/site-packages (from requests>=2.20->googlesearch-python) (3.4)\n",
      "Requirement already satisfied: certifi>=2017.4.17 in /home/ubuntu/anaconda3/lib/python3.10/site-packages (from requests>=2.20->googlesearch-python) (2022.12.7)\n",
      "Requirement already satisfied: charset-normalizer<3,>=2 in /home/ubuntu/anaconda3/lib/python3.10/site-packages (from requests>=2.20->googlesearch-python) (2.0.4)\n",
      "Installing collected packages: googlesearch-python\n",
      "Successfully installed googlesearch-python-1.2.5\n"
     ]
    }
   ],
   "source": [
    "!pip install googlesearch-python"
   ]
  },
  {
   "cell_type": "code",
   "execution_count": 20,
   "id": "3ffc724f",
   "metadata": {},
   "outputs": [
    {
     "name": "stdout",
     "output_type": "stream",
     "text": [
      "Looking in indexes: https://sonatype.adfdata.net/repository/pypi_adf/simple, https://pypi.org/simple, https://pip.repos.neuron.amazonaws.com\r\n",
      "Requirement already satisfied: googlesearch-python in /home/ubuntu/anaconda3/lib/python3.10/site-packages (1.2.5)\r\n",
      "Requirement already satisfied: beautifulsoup4>=4.9 in /home/ubuntu/anaconda3/lib/python3.10/site-packages (from googlesearch-python) (4.11.1)\r\n",
      "Requirement already satisfied: requests>=2.20 in /home/ubuntu/anaconda3/lib/python3.10/site-packages (from googlesearch-python) (2.28.1)\r\n",
      "Requirement already satisfied: soupsieve>1.2 in /home/ubuntu/anaconda3/lib/python3.10/site-packages (from beautifulsoup4>=4.9->googlesearch-python) (2.3.2.post1)\r\n",
      "Requirement already satisfied: charset-normalizer<3,>=2 in /home/ubuntu/anaconda3/lib/python3.10/site-packages (from requests>=2.20->googlesearch-python) (2.0.4)\r\n",
      "Requirement already satisfied: certifi>=2017.4.17 in /home/ubuntu/anaconda3/lib/python3.10/site-packages (from requests>=2.20->googlesearch-python) (2022.12.7)\r\n",
      "Requirement already satisfied: idna<4,>=2.5 in /home/ubuntu/anaconda3/lib/python3.10/site-packages (from requests>=2.20->googlesearch-python) (3.4)\r\n",
      "Requirement already satisfied: urllib3<1.27,>=1.21.1 in /home/ubuntu/anaconda3/lib/python3.10/site-packages (from requests>=2.20->googlesearch-python) (1.26.9)\r\n"
     ]
    }
   ],
   "source": [
    "!pip install googlesearch-python\n"
   ]
  },
  {
   "cell_type": "code",
   "execution_count": null,
   "id": "98b27cd4",
   "metadata": {},
   "outputs": [],
   "source": [
    "structured_outputs=True"
   ]
  },
  {
   "cell_type": "code",
   "execution_count": 22,
   "id": "65124f28",
   "metadata": {},
   "outputs": [
    {
     "ename": "ModuleNotFoundError",
     "evalue": "No module named 'phi.utils.log'; 'phi.utils' is not a package",
     "output_type": "error",
     "traceback": [
      "\u001b[0;31m---------------------------------------------------------------------------\u001b[0m",
      "\u001b[0;31mModuleNotFoundError\u001b[0m                       Traceback (most recent call last)",
      "Cell \u001b[0;32mIn[22], line 9\u001b[0m\n\u001b[1;32m      7\u001b[0m \u001b[38;5;28;01mimport\u001b[39;00m \u001b[38;5;21;01mopenai\u001b[39;00m\n\u001b[1;32m      8\u001b[0m \u001b[38;5;28;01mimport\u001b[39;00m \u001b[38;5;21;01mgoogle\u001b[39;00m\u001b[38;5;21;01m.\u001b[39;00m\u001b[38;5;21;01mgenerativeai\u001b[39;00m \u001b[38;5;28;01mas\u001b[39;00m \u001b[38;5;21;01mgenai\u001b[39;00m\n\u001b[0;32m----> 9\u001b[0m \u001b[38;5;28;01mfrom\u001b[39;00m \u001b[38;5;21;01mphi\u001b[39;00m\u001b[38;5;21;01m.\u001b[39;00m\u001b[38;5;21;01magent\u001b[39;00m \u001b[38;5;28;01mimport\u001b[39;00m Agent\n\u001b[1;32m     10\u001b[0m \u001b[38;5;28;01mfrom\u001b[39;00m \u001b[38;5;21;01mphi\u001b[39;00m\u001b[38;5;21;01m.\u001b[39;00m\u001b[38;5;21;01mmodel\u001b[39;00m\u001b[38;5;21;01m.\u001b[39;00m\u001b[38;5;21;01mgroq\u001b[39;00m \u001b[38;5;28;01mimport\u001b[39;00m Groq\n\u001b[1;32m     11\u001b[0m \u001b[38;5;28;01mfrom\u001b[39;00m \u001b[38;5;21;01mphi\u001b[39;00m\u001b[38;5;21;01m.\u001b[39;00m\u001b[38;5;21;01mtools\u001b[39;00m\u001b[38;5;21;01m.\u001b[39;00m\u001b[38;5;21;01mduckduckgo\u001b[39;00m \u001b[38;5;28;01mimport\u001b[39;00m DuckDuckGo\n",
      "File \u001b[0;32m~/anaconda3/lib/python3.10/site-packages/phi/agent/__init__.py:1\u001b[0m\n\u001b[0;32m----> 1\u001b[0m \u001b[38;5;28;01mfrom\u001b[39;00m \u001b[38;5;21;01mphi\u001b[39;00m\u001b[38;5;21;01m.\u001b[39;00m\u001b[38;5;21;01magent\u001b[39;00m\u001b[38;5;21;01m.\u001b[39;00m\u001b[38;5;21;01magent\u001b[39;00m \u001b[38;5;28;01mimport\u001b[39;00m (\n\u001b[1;32m      2\u001b[0m     Agent,\n\u001b[1;32m      3\u001b[0m     AgentKnowledge,\n\u001b[1;32m      4\u001b[0m     AgentMemory,\n\u001b[1;32m      5\u001b[0m     AgentSession,\n\u001b[1;32m      6\u001b[0m     AgentStorage,\n\u001b[1;32m      7\u001b[0m     Function,\n\u001b[1;32m      8\u001b[0m     MemoryRetrieval,\n\u001b[1;32m      9\u001b[0m     Message,\n\u001b[1;32m     10\u001b[0m     RunEvent,\n\u001b[1;32m     11\u001b[0m     RunResponse,\n\u001b[1;32m     12\u001b[0m     Tool,\n\u001b[1;32m     13\u001b[0m     Toolkit,\n\u001b[1;32m     14\u001b[0m )\n",
      "File \u001b[0;32m~/anaconda3/lib/python3.10/site-packages/phi/agent/agent.py:33\u001b[0m\n\u001b[1;32m     31\u001b[0m \u001b[38;5;28;01mfrom\u001b[39;00m \u001b[38;5;21;01mphi\u001b[39;00m\u001b[38;5;21;01m.\u001b[39;00m\u001b[38;5;21;01mmodel\u001b[39;00m\u001b[38;5;21;01m.\u001b[39;00m\u001b[38;5;21;01mcontent\u001b[39;00m \u001b[38;5;28;01mimport\u001b[39;00m Image, Video, Audio\n\u001b[1;32m     32\u001b[0m \u001b[38;5;28;01mfrom\u001b[39;00m \u001b[38;5;21;01mphi\u001b[39;00m\u001b[38;5;21;01m.\u001b[39;00m\u001b[38;5;21;01mreasoning\u001b[39;00m\u001b[38;5;21;01m.\u001b[39;00m\u001b[38;5;21;01mstep\u001b[39;00m \u001b[38;5;28;01mimport\u001b[39;00m ReasoningStep, ReasoningSteps, NextAction\n\u001b[0;32m---> 33\u001b[0m \u001b[38;5;28;01mfrom\u001b[39;00m \u001b[38;5;21;01mphi\u001b[39;00m\u001b[38;5;21;01m.\u001b[39;00m\u001b[38;5;21;01mrun\u001b[39;00m\u001b[38;5;21;01m.\u001b[39;00m\u001b[38;5;21;01mresponse\u001b[39;00m \u001b[38;5;28;01mimport\u001b[39;00m RunEvent, RunResponse, RunResponseExtraData\n\u001b[1;32m     34\u001b[0m \u001b[38;5;28;01mfrom\u001b[39;00m \u001b[38;5;21;01mphi\u001b[39;00m\u001b[38;5;21;01m.\u001b[39;00m\u001b[38;5;21;01mknowledge\u001b[39;00m\u001b[38;5;21;01m.\u001b[39;00m\u001b[38;5;21;01magent\u001b[39;00m \u001b[38;5;28;01mimport\u001b[39;00m AgentKnowledge\n\u001b[1;32m     35\u001b[0m \u001b[38;5;28;01mfrom\u001b[39;00m \u001b[38;5;21;01mphi\u001b[39;00m\u001b[38;5;21;01m.\u001b[39;00m\u001b[38;5;21;01mmodel\u001b[39;00m\u001b[38;5;21;01m.\u001b[39;00m\u001b[38;5;21;01mbase\u001b[39;00m \u001b[38;5;28;01mimport\u001b[39;00m Model\n",
      "File \u001b[0;32m~/anaconda3/lib/python3.10/site-packages/phi/run/response.py:10\u001b[0m\n\u001b[1;32m      8\u001b[0m \u001b[38;5;28;01mfrom\u001b[39;00m \u001b[38;5;21;01mphi\u001b[39;00m\u001b[38;5;21;01m.\u001b[39;00m\u001b[38;5;21;01mmodel\u001b[39;00m\u001b[38;5;21;01m.\u001b[39;00m\u001b[38;5;21;01mcontent\u001b[39;00m \u001b[38;5;28;01mimport\u001b[39;00m Video, Image, Audio\n\u001b[1;32m      9\u001b[0m \u001b[38;5;28;01mfrom\u001b[39;00m \u001b[38;5;21;01mphi\u001b[39;00m\u001b[38;5;21;01m.\u001b[39;00m\u001b[38;5;21;01mreasoning\u001b[39;00m\u001b[38;5;21;01m.\u001b[39;00m\u001b[38;5;21;01mstep\u001b[39;00m \u001b[38;5;28;01mimport\u001b[39;00m ReasoningStep\n\u001b[0;32m---> 10\u001b[0m \u001b[38;5;28;01mfrom\u001b[39;00m \u001b[38;5;21;01mphi\u001b[39;00m\u001b[38;5;21;01m.\u001b[39;00m\u001b[38;5;21;01mmodel\u001b[39;00m\u001b[38;5;21;01m.\u001b[39;00m\u001b[38;5;21;01mmessage\u001b[39;00m \u001b[38;5;28;01mimport\u001b[39;00m Message, MessageReferences\n\u001b[1;32m     13\u001b[0m \u001b[38;5;28;01mclass\u001b[39;00m \u001b[38;5;21;01mRunEvent\u001b[39;00m(\u001b[38;5;28mstr\u001b[39m, Enum):\n\u001b[1;32m     14\u001b[0m \u001b[38;5;250m    \u001b[39m\u001b[38;5;124;03m\"\"\"Events that can be sent by the run() functions\"\"\"\u001b[39;00m\n",
      "File \u001b[0;32m~/anaconda3/lib/python3.10/site-packages/phi/model/message.py:6\u001b[0m\n\u001b[1;32m      3\u001b[0m \u001b[38;5;28;01mfrom\u001b[39;00m \u001b[38;5;21;01mtyping\u001b[39;00m \u001b[38;5;28;01mimport\u001b[39;00m Optional, Any, Dict, List, Union, Sequence\n\u001b[1;32m      4\u001b[0m \u001b[38;5;28;01mfrom\u001b[39;00m \u001b[38;5;21;01mpydantic\u001b[39;00m \u001b[38;5;28;01mimport\u001b[39;00m BaseModel, ConfigDict, Field\n\u001b[0;32m----> 6\u001b[0m \u001b[38;5;28;01mfrom\u001b[39;00m \u001b[38;5;21;01mphi\u001b[39;00m\u001b[38;5;21;01m.\u001b[39;00m\u001b[38;5;21;01mutils\u001b[39;00m\u001b[38;5;21;01m.\u001b[39;00m\u001b[38;5;21;01mlog\u001b[39;00m \u001b[38;5;28;01mimport\u001b[39;00m logger\n\u001b[1;32m      9\u001b[0m \u001b[38;5;28;01mclass\u001b[39;00m \u001b[38;5;21;01mMessageReferences\u001b[39;00m(BaseModel):\n\u001b[1;32m     10\u001b[0m \u001b[38;5;250m    \u001b[39m\u001b[38;5;124;03m\"\"\"The references added to user message for RAG\"\"\"\u001b[39;00m\n",
      "\u001b[0;31mModuleNotFoundError\u001b[0m: No module named 'phi.utils.log'; 'phi.utils' is not a package"
     ]
    }
   ],
   "source": [
    "from dotenv import load_dotenv\n",
    "load_dotenv()  # Load all environment variables\n",
    "import prompts\n",
    "import streamlit as st\n",
    "import os\n",
    "import sqlite3\n",
    "import openai\n",
    "import google.generativeai as genai\n",
    "from phi.agent import Agent\n",
    "from phi.model.groq import Groq\n",
    "from phi.tools.duckduckgo import DuckDuckGo\n",
    "\n",
    "# Configure API Keys\n",
    "openai.api_key = os.getenv(\"OPENAI_API_KEY\")\n",
    "genai.configure(api_key=os.getenv(\"GOOGLE_API_KEY\"))\n",
    "\n",
    "web_agent = Agent(\n",
    "    name=\"Web Agent\",\n",
    "    model=Groq(id=\"llama-3.3-70b-versatile\"),\n",
    "    tools=[DuckDuckGo()],\n",
    "    instructions=[\"Always include sources and handle full user queries also provide only three points one by one as a text do not add any bullet points\"],\n",
    "    show_tool_calls=True,structured_outputs=True,\n",
    "    markdown=True\n",
    ")\n",
    "\n",
    "def use_web_agent(query):\n",
    "    try:\n",
    "        print(query)\n",
    "        response = web_agent.print_response(query, stream=False)\n",
    "        print(\"****\")\n",
    "        print(response)\n",
    "        return response\n",
    "    except Exception as e:\n",
    "        return f\"Error using web agent: {e}\"\n",
    "    \n",
    "    \n",
    "    \n",
    "\n",
    "\n",
    "\n",
    "\n"
   ]
  },
  {
   "cell_type": "code",
   "execution_count": 23,
   "id": "df4138cb",
   "metadata": {},
   "outputs": [
    {
     "ename": "ModuleNotFoundError",
     "evalue": "No module named 'phi.utils.log'; 'phi.utils' is not a package",
     "output_type": "error",
     "traceback": [
      "\u001b[0;31m---------------------------------------------------------------------------\u001b[0m",
      "\u001b[0;31mModuleNotFoundError\u001b[0m                       Traceback (most recent call last)",
      "Cell \u001b[0;32mIn[23], line 1\u001b[0m\n\u001b[0;32m----> 1\u001b[0m \u001b[38;5;28;01mfrom\u001b[39;00m \u001b[38;5;21;01mphi\u001b[39;00m\u001b[38;5;21;01m.\u001b[39;00m\u001b[38;5;21;01magent\u001b[39;00m \u001b[38;5;28;01mimport\u001b[39;00m Agent\n",
      "File \u001b[0;32m~/anaconda3/lib/python3.10/site-packages/phi/agent/__init__.py:1\u001b[0m\n\u001b[0;32m----> 1\u001b[0m \u001b[38;5;28;01mfrom\u001b[39;00m \u001b[38;5;21;01mphi\u001b[39;00m\u001b[38;5;21;01m.\u001b[39;00m\u001b[38;5;21;01magent\u001b[39;00m\u001b[38;5;21;01m.\u001b[39;00m\u001b[38;5;21;01magent\u001b[39;00m \u001b[38;5;28;01mimport\u001b[39;00m (\n\u001b[1;32m      2\u001b[0m     Agent,\n\u001b[1;32m      3\u001b[0m     AgentKnowledge,\n\u001b[1;32m      4\u001b[0m     AgentMemory,\n\u001b[1;32m      5\u001b[0m     AgentSession,\n\u001b[1;32m      6\u001b[0m     AgentStorage,\n\u001b[1;32m      7\u001b[0m     Function,\n\u001b[1;32m      8\u001b[0m     MemoryRetrieval,\n\u001b[1;32m      9\u001b[0m     Message,\n\u001b[1;32m     10\u001b[0m     RunEvent,\n\u001b[1;32m     11\u001b[0m     RunResponse,\n\u001b[1;32m     12\u001b[0m     Tool,\n\u001b[1;32m     13\u001b[0m     Toolkit,\n\u001b[1;32m     14\u001b[0m )\n",
      "File \u001b[0;32m~/anaconda3/lib/python3.10/site-packages/phi/agent/agent.py:33\u001b[0m\n\u001b[1;32m     31\u001b[0m \u001b[38;5;28;01mfrom\u001b[39;00m \u001b[38;5;21;01mphi\u001b[39;00m\u001b[38;5;21;01m.\u001b[39;00m\u001b[38;5;21;01mmodel\u001b[39;00m\u001b[38;5;21;01m.\u001b[39;00m\u001b[38;5;21;01mcontent\u001b[39;00m \u001b[38;5;28;01mimport\u001b[39;00m Image, Video, Audio\n\u001b[1;32m     32\u001b[0m \u001b[38;5;28;01mfrom\u001b[39;00m \u001b[38;5;21;01mphi\u001b[39;00m\u001b[38;5;21;01m.\u001b[39;00m\u001b[38;5;21;01mreasoning\u001b[39;00m\u001b[38;5;21;01m.\u001b[39;00m\u001b[38;5;21;01mstep\u001b[39;00m \u001b[38;5;28;01mimport\u001b[39;00m ReasoningStep, ReasoningSteps, NextAction\n\u001b[0;32m---> 33\u001b[0m \u001b[38;5;28;01mfrom\u001b[39;00m \u001b[38;5;21;01mphi\u001b[39;00m\u001b[38;5;21;01m.\u001b[39;00m\u001b[38;5;21;01mrun\u001b[39;00m\u001b[38;5;21;01m.\u001b[39;00m\u001b[38;5;21;01mresponse\u001b[39;00m \u001b[38;5;28;01mimport\u001b[39;00m RunEvent, RunResponse, RunResponseExtraData\n\u001b[1;32m     34\u001b[0m \u001b[38;5;28;01mfrom\u001b[39;00m \u001b[38;5;21;01mphi\u001b[39;00m\u001b[38;5;21;01m.\u001b[39;00m\u001b[38;5;21;01mknowledge\u001b[39;00m\u001b[38;5;21;01m.\u001b[39;00m\u001b[38;5;21;01magent\u001b[39;00m \u001b[38;5;28;01mimport\u001b[39;00m AgentKnowledge\n\u001b[1;32m     35\u001b[0m \u001b[38;5;28;01mfrom\u001b[39;00m \u001b[38;5;21;01mphi\u001b[39;00m\u001b[38;5;21;01m.\u001b[39;00m\u001b[38;5;21;01mmodel\u001b[39;00m\u001b[38;5;21;01m.\u001b[39;00m\u001b[38;5;21;01mbase\u001b[39;00m \u001b[38;5;28;01mimport\u001b[39;00m Model\n",
      "File \u001b[0;32m~/anaconda3/lib/python3.10/site-packages/phi/run/response.py:10\u001b[0m\n\u001b[1;32m      8\u001b[0m \u001b[38;5;28;01mfrom\u001b[39;00m \u001b[38;5;21;01mphi\u001b[39;00m\u001b[38;5;21;01m.\u001b[39;00m\u001b[38;5;21;01mmodel\u001b[39;00m\u001b[38;5;21;01m.\u001b[39;00m\u001b[38;5;21;01mcontent\u001b[39;00m \u001b[38;5;28;01mimport\u001b[39;00m Video, Image, Audio\n\u001b[1;32m      9\u001b[0m \u001b[38;5;28;01mfrom\u001b[39;00m \u001b[38;5;21;01mphi\u001b[39;00m\u001b[38;5;21;01m.\u001b[39;00m\u001b[38;5;21;01mreasoning\u001b[39;00m\u001b[38;5;21;01m.\u001b[39;00m\u001b[38;5;21;01mstep\u001b[39;00m \u001b[38;5;28;01mimport\u001b[39;00m ReasoningStep\n\u001b[0;32m---> 10\u001b[0m \u001b[38;5;28;01mfrom\u001b[39;00m \u001b[38;5;21;01mphi\u001b[39;00m\u001b[38;5;21;01m.\u001b[39;00m\u001b[38;5;21;01mmodel\u001b[39;00m\u001b[38;5;21;01m.\u001b[39;00m\u001b[38;5;21;01mmessage\u001b[39;00m \u001b[38;5;28;01mimport\u001b[39;00m Message, MessageReferences\n\u001b[1;32m     13\u001b[0m \u001b[38;5;28;01mclass\u001b[39;00m \u001b[38;5;21;01mRunEvent\u001b[39;00m(\u001b[38;5;28mstr\u001b[39m, Enum):\n\u001b[1;32m     14\u001b[0m \u001b[38;5;250m    \u001b[39m\u001b[38;5;124;03m\"\"\"Events that can be sent by the run() functions\"\"\"\u001b[39;00m\n",
      "File \u001b[0;32m~/anaconda3/lib/python3.10/site-packages/phi/model/message.py:6\u001b[0m\n\u001b[1;32m      3\u001b[0m \u001b[38;5;28;01mfrom\u001b[39;00m \u001b[38;5;21;01mtyping\u001b[39;00m \u001b[38;5;28;01mimport\u001b[39;00m Optional, Any, Dict, List, Union, Sequence\n\u001b[1;32m      4\u001b[0m \u001b[38;5;28;01mfrom\u001b[39;00m \u001b[38;5;21;01mpydantic\u001b[39;00m \u001b[38;5;28;01mimport\u001b[39;00m BaseModel, ConfigDict, Field\n\u001b[0;32m----> 6\u001b[0m \u001b[38;5;28;01mfrom\u001b[39;00m \u001b[38;5;21;01mphi\u001b[39;00m\u001b[38;5;21;01m.\u001b[39;00m\u001b[38;5;21;01mutils\u001b[39;00m\u001b[38;5;21;01m.\u001b[39;00m\u001b[38;5;21;01mlog\u001b[39;00m \u001b[38;5;28;01mimport\u001b[39;00m logger\n\u001b[1;32m      9\u001b[0m \u001b[38;5;28;01mclass\u001b[39;00m \u001b[38;5;21;01mMessageReferences\u001b[39;00m(BaseModel):\n\u001b[1;32m     10\u001b[0m \u001b[38;5;250m    \u001b[39m\u001b[38;5;124;03m\"\"\"The references added to user message for RAG\"\"\"\u001b[39;00m\n",
      "\u001b[0;31mModuleNotFoundError\u001b[0m: No module named 'phi.utils.log'; 'phi.utils' is not a package"
     ]
    }
   ],
   "source": [
    "from phi.agent import Agent"
   ]
  },
  {
   "cell_type": "code",
   "execution_count": 24,
   "id": "69723d76",
   "metadata": {},
   "outputs": [],
   "source": [
    "from googlesearch import search\n",
    "\n",
    "def use_google_search(query):\n",
    "    try:\n",
    "        # Perform the search using googlesearch-python\n",
    "        search_results = search(query, num_results=5)  # Get top 5 results\n",
    "        \n",
    "        # Format the results into a string\n",
    "        return \"\\n\".join(search_results)\n",
    "    except Exception as e:\n",
    "        return f\"Error during search: {e}\""
   ]
  },
  {
   "cell_type": "code",
   "execution_count": 25,
   "id": "2c9cdf63",
   "metadata": {},
   "outputs": [],
   "source": [
    "c = use_google_search(\"what is real madrid\")"
   ]
  },
  {
   "cell_type": "code",
   "execution_count": 26,
   "id": "2fd51449",
   "metadata": {},
   "outputs": [
    {
     "data": {
      "text/plain": [
       "'https://en.wikipedia.org/wiki/Real_Madrid_CF\\nhttps://www.realmadrid.com/en-US\\nhttps://www.britannica.com/topic/Real-Madrid\\nhttps://home.adelphi.edu/~sa21577/page2final.html'"
      ]
     },
     "execution_count": 26,
     "metadata": {},
     "output_type": "execute_result"
    }
   ],
   "source": [
    "c"
   ]
  },
  {
   "cell_type": "code",
   "execution_count": 30,
   "id": "f9590986",
   "metadata": {},
   "outputs": [
    {
     "ename": "ImportError",
     "evalue": "cannot import name 'search' from 'duckduckgo_search' (/home/ubuntu/anaconda3/lib/python3.10/site-packages/duckduckgo_search/__init__.py)",
     "output_type": "error",
     "traceback": [
      "\u001b[0;31m---------------------------------------------------------------------------\u001b[0m",
      "\u001b[0;31mImportError\u001b[0m                               Traceback (most recent call last)",
      "Cell \u001b[0;32mIn[30], line 1\u001b[0m\n\u001b[0;32m----> 1\u001b[0m \u001b[38;5;28;01mfrom\u001b[39;00m \u001b[38;5;21;01mduckduckgo_search\u001b[39;00m \u001b[38;5;28;01mimport\u001b[39;00m search\n\u001b[1;32m      2\u001b[0m \u001b[38;5;28;01mdef\u001b[39;00m \u001b[38;5;21mduckduckgo_search\u001b[39m(query):\n\u001b[1;32m      3\u001b[0m     search_results \u001b[38;5;241m=\u001b[39m search(query)\n",
      "\u001b[0;31mImportError\u001b[0m: cannot import name 'search' from 'duckduckgo_search' (/home/ubuntu/anaconda3/lib/python3.10/site-packages/duckduckgo_search/__init__.py)"
     ]
    }
   ],
   "source": [
    "from duckduckgo_search import search\n",
    "def duckduckgo_search(query):\n",
    "    search_results = search(query)\n",
    "    if search_results:\n",
    "        return search_results\n",
    "    return \"No results found.\""
   ]
  },
  {
   "cell_type": "code",
   "execution_count": 28,
   "id": "db4eeadf",
   "metadata": {},
   "outputs": [
    {
     "name": "stdout",
     "output_type": "stream",
     "text": [
      "Looking in indexes: https://sonatype.adfdata.net/repository/pypi_adf/simple, https://pypi.org/simple, https://pip.repos.neuron.amazonaws.com\r\n",
      "Requirement already satisfied: duckduckgo_search in /home/ubuntu/anaconda3/lib/python3.10/site-packages (7.2.0)\r\n",
      "Requirement already satisfied: lxml>=5.3.0 in /home/ubuntu/anaconda3/lib/python3.10/site-packages (from duckduckgo_search) (5.3.0)\r\n",
      "Requirement already satisfied: click>=8.1.7 in /home/ubuntu/anaconda3/lib/python3.10/site-packages (from duckduckgo_search) (8.1.8)\r\n",
      "Requirement already satisfied: primp>=0.9.3 in /home/ubuntu/anaconda3/lib/python3.10/site-packages (from duckduckgo_search) (0.9.3)\r\n"
     ]
    }
   ],
   "source": [
    "!pip install duckduckgo_search"
   ]
  },
  {
   "cell_type": "code",
   "execution_count": null,
   "id": "03cdf992",
   "metadata": {},
   "outputs": [],
   "source": []
  }
 ],
 "metadata": {
  "kernelspec": {
   "display_name": "Python 3 (ipykernel)",
   "language": "python",
   "name": "python3"
  },
  "language_info": {
   "codemirror_mode": {
    "name": "ipython",
    "version": 3
   },
   "file_extension": ".py",
   "mimetype": "text/x-python",
   "name": "python",
   "nbconvert_exporter": "python",
   "pygments_lexer": "ipython3",
   "version": "3.10.9"
  }
 },
 "nbformat": 4,
 "nbformat_minor": 5
}
